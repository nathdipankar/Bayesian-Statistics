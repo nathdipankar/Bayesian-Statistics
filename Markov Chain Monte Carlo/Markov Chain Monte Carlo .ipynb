{
 "cells": [
  {
   "cell_type": "markdown",
   "metadata": {},
   "source": [
    "## Markov Chain Monte Carlo - An Introduction"
   ]
  },
  {
   "cell_type": "markdown",
   "metadata": {},
   "source": [
    "### The Metropolis Algorithm"
   ]
  },
  {
   "cell_type": "markdown",
   "metadata": {},
   "source": [
    "Suppose a politician is standing for reelection and is on campaign mode. Now she has to travel across various constituencies without whose support she will not be able to come to power. However she wants to optimize her time such that she spends more time in constituencies that have a larger population or in other words a larger voter base. \n",
    "\n",
    "Unfortunately for her, she does not know population of the various constituencies is unknown to her. It is of course possible to randomly start from one constituency, know the population of the current constituency and also it is highly likely that someone would know the population of the neighbouring constituencies. Let us devise a method so that she visits the constituencies with larger base frequently.\n",
    "\n",
    "She chooses a constituency at random, once she is done with the rallies and public speeches and meetings with junior party members, she has to (or her campaign team more likely) decide which constituency she needs to visit next. For simplicity let us assume that she can only move east or west and somehow all her constituencies fall on a line. In order to decide whether to move east or west her team tosses a fair coin. If the population of the next constituency decided through the toss is larger than the population of the current one, she moves. If it is not then the team calculates the relative population $ p = \\frac{\\text{Population}_{current-town}}{\\text{Population}_{next-town} }$. Then they spin a spinner which gives values between 0 and 1 with each value b"
   ]
  },
  {
   "cell_type": "code",
   "execution_count": null,
   "metadata": {
    "collapsed": true
   },
   "outputs": [],
   "source": []
  }
 ],
 "metadata": {
  "kernelspec": {
   "display_name": "Python 3",
   "language": "python",
   "name": "python3"
  },
  "language_info": {
   "codemirror_mode": {
    "name": "ipython",
    "version": 3
   },
   "file_extension": ".py",
   "mimetype": "text/x-python",
   "name": "python",
   "nbconvert_exporter": "python",
   "pygments_lexer": "ipython3",
   "version": "3.6.3"
  }
 },
 "nbformat": 4,
 "nbformat_minor": 2
}
