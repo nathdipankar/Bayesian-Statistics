{
 "cells": [
  {
   "cell_type": "markdown",
   "metadata": {},
   "source": [
    "## Markov Chain Monte Carlo - An Introduction"
   ]
  },
  {
   "cell_type": "markdown",
   "metadata": {},
   "source": [
    "### The Metropolis Algorithm"
   ]
  },
  {
   "cell_type": "markdown",
   "metadata": {},
   "source": [
    "Suppose a politician is standing for reelection and is on campaign mode. Now she has to travel across various constituencies without whose support she will not be able to come to power. However she wants to optimize her time such that she spends more time in constituencies that have a larger population or in other words a larger voter base. \n",
    "\n",
    "Unfortunately for her, she does not know population of the various constituencies is unknown to her. It is of course possible to randomly start from one constituency, know the population of the current constituency and also it is highly likely that someone would know the population of the neighbouring constituencies. Let us devise a method so that she visits the constituencies with larger base frequently.\n",
    "\n",
    "She chooses a constituency at random, once she is done with the rallies and public speeches and meetings with junior party members, she has to (or her campaign team more likely) decide which constituency she needs to visit next. For simplicity let us assume that she can only move east or west and somehow all her constituencies fall on a line. In order to decide whether to move east or west her team tosses a fair coin. If the population of the next constituency decided through the toss is larger than the population of the current one, she moves. If it is not then the team calculates the relative population $ p = \\frac{\\text{Population}_{current-town}}{\\text{Population}_{next-town} }$. Then they spin a spinner which gives values between 0 and 1 with each value being equally probable. If the output of the spinner $p_{spinner}<p$ then she moves to the next town, else she stays in same constituency."
   ]
  },
  {
   "cell_type": "code",
   "execution_count": 1,
   "metadata": {
    "collapsed": true
   },
   "outputs": [],
   "source": [
    "import numpy as np\n",
    "import pandas as pd\n",
    "import seaborn as sns\n",
    "%matplotlib inline"
   ]
  },
  {
   "cell_type": "code",
   "execution_count": 38,
   "metadata": {},
   "outputs": [],
   "source": [
    "#Let us define the relative populations of 10 constituencies\n",
    "x = np.random.uniform(low = 1, high = 10, size = 10)\n",
    "populations = [int(i) for i in x]"
   ]
  },
  {
   "cell_type": "code",
   "execution_count": 39,
   "metadata": {},
   "outputs": [
    {
     "data": {
      "text/plain": [
       "[3, 8, 5, 7, 5, 4, 7, 9, 8, 9]"
      ]
     },
     "execution_count": 39,
     "metadata": {},
     "output_type": "execute_result"
    }
   ],
   "source": [
    "populations"
   ]
  },
  {
   "cell_type": "code",
   "execution_count": 40,
   "metadata": {
    "collapsed": true
   },
   "outputs": [],
   "source": [
    "population_dict = {}"
   ]
  },
  {
   "cell_type": "code",
   "execution_count": 41,
   "metadata": {
    "collapsed": true
   },
   "outputs": [],
   "source": [
    "population_dict['town_name'] = ['town'+str(i) for i in range(10)]"
   ]
  },
  {
   "cell_type": "code",
   "execution_count": 42,
   "metadata": {
    "collapsed": true
   },
   "outputs": [],
   "source": [
    "population_dict['Population'] = populations"
   ]
  },
  {
   "cell_type": "code",
   "execution_count": 43,
   "metadata": {},
   "outputs": [],
   "source": [
    "population_df = pd.DataFrame(population_dict)"
   ]
  },
  {
   "cell_type": "code",
   "execution_count": 44,
   "metadata": {},
   "outputs": [
    {
     "data": {
      "text/html": [
       "<div>\n",
       "<style scoped>\n",
       "    .dataframe tbody tr th:only-of-type {\n",
       "        vertical-align: middle;\n",
       "    }\n",
       "\n",
       "    .dataframe tbody tr th {\n",
       "        vertical-align: top;\n",
       "    }\n",
       "\n",
       "    .dataframe thead th {\n",
       "        text-align: right;\n",
       "    }\n",
       "</style>\n",
       "<table border=\"1\" class=\"dataframe\">\n",
       "  <thead>\n",
       "    <tr style=\"text-align: right;\">\n",
       "      <th></th>\n",
       "      <th>Population</th>\n",
       "      <th>town_name</th>\n",
       "    </tr>\n",
       "  </thead>\n",
       "  <tbody>\n",
       "    <tr>\n",
       "      <th>0</th>\n",
       "      <td>3</td>\n",
       "      <td>town0</td>\n",
       "    </tr>\n",
       "    <tr>\n",
       "      <th>1</th>\n",
       "      <td>8</td>\n",
       "      <td>town1</td>\n",
       "    </tr>\n",
       "    <tr>\n",
       "      <th>2</th>\n",
       "      <td>5</td>\n",
       "      <td>town2</td>\n",
       "    </tr>\n",
       "    <tr>\n",
       "      <th>3</th>\n",
       "      <td>7</td>\n",
       "      <td>town3</td>\n",
       "    </tr>\n",
       "    <tr>\n",
       "      <th>4</th>\n",
       "      <td>5</td>\n",
       "      <td>town4</td>\n",
       "    </tr>\n",
       "  </tbody>\n",
       "</table>\n",
       "</div>"
      ],
      "text/plain": [
       "   Population town_name\n",
       "0           3     town0\n",
       "1           8     town1\n",
       "2           5     town2\n",
       "3           7     town3\n",
       "4           5     town4"
      ]
     },
     "execution_count": 44,
     "metadata": {},
     "output_type": "execute_result"
    }
   ],
   "source": [
    "population_df.head()"
   ]
  },
  {
   "cell_type": "code",
   "execution_count": 45,
   "metadata": {},
   "outputs": [
    {
     "name": "stderr",
     "output_type": "stream",
     "text": [
      "C:\\Users\\nathd\\Anaconda3\\lib\\site-packages\\seaborn\\categorical.py:1460: FutureWarning: remove_na is deprecated and is a private function. Do not use.\n",
      "  stat_data = remove_na(group_data)\n"
     ]
    },
    {
     "data": {
      "text/plain": [
       "<matplotlib.axes._subplots.AxesSubplot at 0x206d086e160>"
      ]
     },
     "execution_count": 45,
     "metadata": {},
     "output_type": "execute_result"
    },
    {
     "data": {
      "image/png": "[encoded data removed]",
      "text/plain": [
       "<matplotlib.figure.Figure at 0x206cf5a4b38>"
      ]
     },
     "metadata": {},
     "output_type": "display_data"
    }
   ],
   "source": [
    "sns.set(rc={'figure.figsize':(12,9)})\n",
    "sns.barplot(x = 'town_name', y = 'Population', data = population_df)"
   ]
  },
  {
   "cell_type": "markdown",
   "metadata": {},
   "source": [
    "Let us now choose a town at random and see how the politician hoping to reelected indeed is successful with our strategy to go to each town. Let us assume that the person visits town 5 first."
   ]
  },
  {
   "cell_type": "code",
   "execution_count": null,
   "metadata": {
    "collapsed": true
   },
   "outputs": [],
   "source": [
    "def randomwalk_1D(steps, data, startpoint):\n",
    "    towns = data['town_name']\n",
    "    sampling_dict = {key: 0 for key in towns.tolist()}\n",
    "    index_start = data.index[data['town_name']==startpoint][0]\n",
    "    sampling_dict[start_point] = 1\n",
    "    count = 0\n",
    "    for i in range(steps):\n",
    "        toss1 = np.random.uniform()\n",
    "        if toss1>0.5:\n",
    "            if count == 0:\n",
    "                if index_start>=(len(towns)-1):\n",
    "                    index = index_start\n",
    "                    sampling_dict[towns[index]]+=1\n",
    "                else:\n",
    "                    index = index_start+1\n",
    "                    sampling_dict[towns[index]]+=1\n",
    "            else:\n",
    "                if index>=(len(towns)-1):\n",
    "                    index = index\n",
    "                    sampling_dict[towns[index]]+=1\n",
    "                else:\n",
    "                    index+=1\n",
    "                    sampling_dict[towns[index]]+=1\n",
    "        if toss<0.5:\n",
    "            \n",
    "            if count == 0:\n",
    "                if index_start<=0:\n",
    "                    index = index_start\n",
    "                    sampling_dict[towns[index]]+=1 \n",
    "                else:\n",
    "                    index = index_start-1d\n",
    "                    sampling_dict[towns[index]]+=1"
   ]
  },
  {
   "cell_type": "code",
   "execution_count": 48,
   "metadata": {},
   "outputs": [
    {
     "data": {
      "text/plain": [
       "5"
      ]
     },
     "execution_count": 48,
     "metadata": {},
     "output_type": "execute_result"
    }
   ],
   "source": [
    "population_df.index[population_df['town_name']=='town5'][0]"
   ]
  },
  {
   "cell_type": "code",
   "execution_count": 52,
   "metadata": {},
   "outputs": [
    {
     "data": {
      "text/plain": [
       "10"
      ]
     },
     "execution_count": 52,
     "metadata": {},
     "output_type": "execute_result"
    }
   ],
   "source": [
    "len(population_df['town_name'])"
   ]
  },
  {
   "cell_type": "code",
   "execution_count": 53,
   "metadata": {
    "collapsed": true
   },
   "outputs": [],
   "source": [
    "towns = population_df['town_name']"
   ]
  },
  {
   "cell_type": "code",
   "execution_count": 56,
   "metadata": {},
   "outputs": [],
   "source": [
    "test = dict.fromkeys(towns.tolist())"
   ]
  },
  {
   "cell_type": "code",
   "execution_count": 58,
   "metadata": {},
   "outputs": [],
   "source": [
    "test = {key: 0 for key in towns.tolist()}"
   ]
  },
  {
   "cell_type": "code",
   "execution_count": 66,
   "metadata": {},
   "outputs": [
    {
     "data": {
      "text/plain": [
       "0.27838927734826024"
      ]
     },
     "execution_count": 66,
     "metadata": {},
     "output_type": "execute_result"
    }
   ],
   "source": [
    "np.random.uniform()"
   ]
  },
  {
   "cell_type": "code",
   "execution_count": null,
   "metadata": {
    "collapsed": true
   },
   "outputs": [],
   "source": []
  }
 ],
 "metadata": {
  "kernelspec": {
   "display_name": "Python 3",
   "language": "python",
   "name": "python3"
  },
  "language_info": {
   "codemirror_mode": {
    "name": "ipython",
    "version": 3
   },
   "file_extension": ".py",
   "mimetype": "text/x-python",
   "name": "python",
   "nbconvert_exporter": "python",
   "pygments_lexer": "ipython3",
   "version": "3.6.3"
  }
 },
 "nbformat": 4,
 "nbformat_minor": 2
}
